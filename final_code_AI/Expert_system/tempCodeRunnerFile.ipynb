
plt.subplot(2,3,1)